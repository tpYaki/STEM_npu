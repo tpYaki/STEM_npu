{
 "cells": [
  {
   "cell_type": "code",
   "execution_count": 1,
   "id": "ffa69ad6-189f-4640-8a50-b7b90d07f23d",
   "metadata": {},
   "outputs": [
    {
     "name": "stdout",
     "output_type": "stream",
     "text": [
      "Looking in indexes: http://pip.modelarts.private.com:8888/repository/pypi/simple\n",
      "Requirement already satisfied: scanpy in /home/ma-user/anaconda3/envs/MindSpore/lib/python3.7/site-packages (1.9.2)\n",
      "Requirement already satisfied: sympy in /home/ma-user/anaconda3/envs/MindSpore/lib/python3.7/site-packages (1.4)\n",
      "Requirement already satisfied: leidenalg in /home/ma-user/anaconda3/envs/MindSpore/lib/python3.7/site-packages (0.8.8)\n",
      "Collecting captum\n",
      "  Downloading http://pip.modelarts.private.com:8888/repository/pypi/packages/captum/0.6.0/captum-0.6.0-py3-none-any.whl (1.3 MB)\n",
      "\u001b[2K     \u001b[90m━━━━━━━━━━━━━━━━━━━━━━━━━━━━━━━━━━━━━━━━\u001b[0m \u001b[32m1.3/1.3 MB\u001b[0m \u001b[31m58.2 MB/s\u001b[0m eta \u001b[36m0:00:00\u001b[0m\n",
      "\u001b[?25hRequirement already satisfied: session-info in /home/ma-user/anaconda3/envs/MindSpore/lib/python3.7/site-packages (from scanpy) (1.0.0)\n",
      "Requirement already satisfied: scipy>=1.4 in /home/ma-user/anaconda3/envs/MindSpore/lib/python3.7/site-packages (from scanpy) (1.5.4)\n",
      "Requirement already satisfied: numpy>=1.17.0 in /home/ma-user/anaconda3/envs/MindSpore/lib/python3.7/site-packages (from scanpy) (1.21.6)\n",
      "Requirement already satisfied: anndata>=0.7.4 in /home/ma-user/anaconda3/envs/MindSpore/lib/python3.7/site-packages (from scanpy) (0.8.0)\n",
      "Requirement already satisfied: natsort in /home/ma-user/anaconda3/envs/MindSpore/lib/python3.7/site-packages (from scanpy) (8.1.0)\n",
      "Requirement already satisfied: packaging in /home/ma-user/anaconda3/envs/MindSpore/lib/python3.7/site-packages (from scanpy) (21.3)\n",
      "Requirement already satisfied: h5py>=3 in /home/ma-user/anaconda3/envs/MindSpore/lib/python3.7/site-packages (from scanpy) (3.4.0)\n",
      "Requirement already satisfied: joblib in /home/ma-user/anaconda3/envs/MindSpore/lib/python3.7/site-packages (from scanpy) (1.1.0)\n",
      "Requirement already satisfied: patsy in /home/ma-user/anaconda3/envs/MindSpore/lib/python3.7/site-packages (from scanpy) (0.5.2)\n",
      "Requirement already satisfied: importlib_metadata>=0.7 in /home/ma-user/anaconda3/envs/MindSpore/lib/python3.7/site-packages (from scanpy) (4.11.3)\n",
      "Requirement already satisfied: scikit-learn>=0.22 in /home/ma-user/anaconda3/envs/MindSpore/lib/python3.7/site-packages (from scanpy) (0.24.0)\n",
      "Requirement already satisfied: pandas>=1.0 in /home/ma-user/anaconda3/envs/MindSpore/lib/python3.7/site-packages (from scanpy) (1.1.3)\n",
      "Requirement already satisfied: matplotlib>=3.4 in /home/ma-user/anaconda3/envs/MindSpore/lib/python3.7/site-packages (from scanpy) (3.5.3)\n",
      "Requirement already satisfied: seaborn in /home/ma-user/anaconda3/envs/MindSpore/lib/python3.7/site-packages (from scanpy) (0.11.2)\n",
      "Requirement already satisfied: tqdm in /home/ma-user/anaconda3/envs/MindSpore/lib/python3.7/site-packages (from scanpy) (4.46.1)\n",
      "Requirement already satisfied: statsmodels>=0.10.0rc2 in /home/ma-user/anaconda3/envs/MindSpore/lib/python3.7/site-packages (from scanpy) (0.13.5)\n",
      "Requirement already satisfied: networkx>=2.3 in /home/ma-user/anaconda3/envs/MindSpore/lib/python3.7/site-packages (from scanpy) (2.6.3)\n",
      "Requirement already satisfied: umap-learn>=0.3.10 in /home/ma-user/anaconda3/envs/MindSpore/lib/python3.7/site-packages (from scanpy) (0.5.3)\n",
      "Requirement already satisfied: numba>=0.41.0 in /home/ma-user/anaconda3/envs/MindSpore/lib/python3.7/site-packages (from scanpy) (0.56.4)\n",
      "Requirement already satisfied: mpmath>=0.19 in /home/ma-user/anaconda3/envs/MindSpore/lib/python3.7/site-packages (from sympy) (1.2.1)\n",
      "Requirement already satisfied: python-igraph>=0.9.0 in /home/ma-user/anaconda3/envs/MindSpore/lib/python3.7/site-packages (from leidenalg) (0.10.2)\n",
      "Requirement already satisfied: torch>=1.6 in /home/ma-user/anaconda3/envs/MindSpore/lib/python3.7/site-packages (from captum) (1.11.0)\n",
      "Requirement already satisfied: typing_extensions in /home/ma-user/anaconda3/envs/MindSpore/lib/python3.7/site-packages (from anndata>=0.7.4->scanpy) (4.5.0)\n",
      "Requirement already satisfied: cached-property in /home/ma-user/anaconda3/envs/MindSpore/lib/python3.7/site-packages (from h5py>=3->scanpy) (1.5.2)\n",
      "Requirement already satisfied: zipp>=0.5 in /home/ma-user/anaconda3/envs/MindSpore/lib/python3.7/site-packages (from importlib_metadata>=0.7->scanpy) (3.7.0)\n",
      "Requirement already satisfied: pyparsing>=2.2.1 in /home/ma-user/anaconda3/envs/MindSpore/lib/python3.7/site-packages (from matplotlib>=3.4->scanpy) (3.0.7)\n",
      "Requirement already satisfied: fonttools>=4.22.0 in /home/ma-user/anaconda3/envs/MindSpore/lib/python3.7/site-packages (from matplotlib>=3.4->scanpy) (4.38.0)\n",
      "Requirement already satisfied: cycler>=0.10 in /home/ma-user/anaconda3/envs/MindSpore/lib/python3.7/site-packages (from matplotlib>=3.4->scanpy) (0.11.0)\n",
      "Requirement already satisfied: pillow>=6.2.0 in /home/ma-user/anaconda3/envs/MindSpore/lib/python3.7/site-packages (from matplotlib>=3.4->scanpy) (7.0.0)\n",
      "Requirement already satisfied: kiwisolver>=1.0.1 in /home/ma-user/anaconda3/envs/MindSpore/lib/python3.7/site-packages (from matplotlib>=3.4->scanpy) (1.1.0)\n",
      "Requirement already satisfied: python-dateutil>=2.7 in /home/ma-user/anaconda3/envs/MindSpore/lib/python3.7/site-packages (from matplotlib>=3.4->scanpy) (2.8.2)\n",
      "Requirement already satisfied: setuptools in /home/ma-user/anaconda3/envs/MindSpore/lib/python3.7/site-packages (from numba>=0.41.0->scanpy) (60.5.0)\n",
      "Requirement already satisfied: llvmlite<0.40,>=0.39.0dev0 in /home/ma-user/anaconda3/envs/MindSpore/lib/python3.7/site-packages (from numba>=0.41.0->scanpy) (0.39.1)\n",
      "Requirement already satisfied: pytz>=2017.2 in /home/ma-user/anaconda3/envs/MindSpore/lib/python3.7/site-packages (from pandas>=1.0->scanpy) (2021.3)\n",
      "Requirement already satisfied: igraph==0.10.2 in /home/ma-user/anaconda3/envs/MindSpore/lib/python3.7/site-packages (from python-igraph>=0.9.0->leidenalg) (0.10.2)\n",
      "Requirement already satisfied: texttable>=1.6.2 in /home/ma-user/anaconda3/envs/MindSpore/lib/python3.7/site-packages (from igraph==0.10.2->python-igraph>=0.9.0->leidenalg) (1.6.7)\n",
      "Requirement already satisfied: threadpoolctl>=2.0.0 in /home/ma-user/anaconda3/envs/MindSpore/lib/python3.7/site-packages (from scikit-learn>=0.22->scanpy) (3.1.0)\n",
      "Requirement already satisfied: six in /home/ma-user/anaconda3/envs/MindSpore/lib/python3.7/site-packages (from patsy->scanpy) (1.16.0)\n",
      "Requirement already satisfied: pynndescent>=0.5 in /home/ma-user/anaconda3/envs/MindSpore/lib/python3.7/site-packages (from umap-learn>=0.3.10->scanpy) (0.5.8)\n",
      "Requirement already satisfied: stdlib-list in /home/ma-user/anaconda3/envs/MindSpore/lib/python3.7/site-packages (from session-info->scanpy) (0.8.0)\n",
      "Installing collected packages: captum\n",
      "Successfully installed captum-0.6.0\n",
      "\n",
      "\u001b[1m[\u001b[0m\u001b[34;49mnotice\u001b[0m\u001b[1;39;49m]\u001b[0m\u001b[39;49m A new release of pip is available: \u001b[0m\u001b[31;49m23.0.1\u001b[0m\u001b[39;49m -> \u001b[0m\u001b[32;49m23.1.2\u001b[0m\n",
      "\u001b[1m[\u001b[0m\u001b[34;49mnotice\u001b[0m\u001b[1;39;49m]\u001b[0m\u001b[39;49m To update, run: \u001b[0m\u001b[32;49mpip install --upgrade pip\u001b[0m\n",
      "Note: you may need to restart the kernel to use updated packages.\n"
     ]
    }
   ],
   "source": [
    "pip install scanpy sympy leidenalg captum"
   ]
  },
  {
   "cell_type": "code",
   "execution_count": 1,
   "id": "c04cb837",
   "metadata": {
    "tags": []
   },
   "outputs": [
    {
     "name": "stdout",
     "output_type": "stream",
     "text": [
      "Populating the interactive namespace from numpy and matplotlib\n"
     ]
    },
    {
     "name": "stderr",
     "output_type": "stream",
     "text": [
      "/home/ma-user/anaconda3/envs/MindSpore/lib/python3.7/site-packages/torch_npu/contrib/transfer_to_npu.py:94: ImportWarning: \n",
      "    *************************************************************************************************************\n",
      "    The torch.Tensor.cuda and torch.nn.Module.cuda are replaced with torch.Tensor.npu and torch.nn.Module.npu now..\n",
      "    The torch.cuda.DoubleTensor is replaced with torch.npu.FloatTensor cause the double type is not supported now..\n",
      "    The backend in torch.distributed.init_process_group set to hccl now..\n",
      "    The torch.cuda.* and torch.cuda.amp.* are replaced with torch.npu.* and torch.npu.amp.* now..\n",
      "    The device parameters have been replaced with npu in the function below:\n",
      "    torch.logspace, torch.randint, torch.hann_window, torch.rand, torch.full_like, torch.ones_like, torch.rand_like, torch.randperm, torch.arange, torch.frombuffer, torch.normal, torch._empty_per_channel_affine_quantized, torch.empty_strided, torch.empty_like, torch.scalar_tensor, torch.tril_indices, torch.bartlett_window, torch.ones, torch.sparse_coo_tensor, torch.randn, torch.kaiser_window, torch.tensor, torch.triu_indices, torch.as_tensor, torch.zeros, torch.randint_like, torch.full, torch.eye, torch._sparse_csr_tensor_unsafe, torch.empty, torch._sparse_coo_tensor_unsafe, torch.blackman_window, torch.zeros_like, torch.range, torch.sparse_csr_tensor, torch.randn_like, torch.from_file, torch._cudnn_init_dropout_state, torch._empty_affine_quantized, torch.linspace, torch.hamming_window, torch.empty_quantized, torch._pin_memory, torch.device, torch.Tensor.new_empty, torch.Tensor.new_empty_strided, torch.Tensor.new_full, torch.Tensor.new_ones, torch.Tensor.new_tensor, torch.Tensor.new_zeros, torch.Tensor.to, torch.nn.Module.to, torch.nn.Module.to_empty\n",
      "    *************************************************************************************************************\n",
      "    \n",
      "  warnings.warn(msg, ImportWarning)\n"
     ]
    }
   ],
   "source": [
    "%pylab inline\n",
    "import os\n",
    "os.environ[\"CUDA_VISIBLE_DEVICES\"] = \"1\"\n",
    "import scanpy as sc\n",
    "import pandas as pd\n",
    "import torch\n",
    "import scipy\n",
    "import time\n",
    "from STEM.model import *\n",
    "from STEM.utils import *\n",
    "import torch_npu\n",
    "from torch_npu.contrib import transfer_to_npu"
   ]
  },
  {
   "cell_type": "code",
   "execution_count": 1,
   "id": "f03325cd-6679-4b9c-99e6-80218f86bf0f",
   "metadata": {},
   "outputs": [
    {
     "name": "stdout",
     "output_type": "stream",
     "text": [
      "Looking in indexes: http://pip.modelarts.private.com:8888/repository/pypi/simple\n",
      "Requirement already satisfied: anndata in /home/ma-user/anaconda3/envs/MindSpore/lib/python3.7/site-packages (0.8.0)\n",
      "Requirement already satisfied: h5py>=3 in /home/ma-user/anaconda3/envs/MindSpore/lib/python3.7/site-packages (from anndata) (3.4.0)\n",
      "Requirement already satisfied: scipy>1.4 in /home/ma-user/anaconda3/envs/MindSpore/lib/python3.7/site-packages (from anndata) (1.5.4)\n",
      "Requirement already satisfied: natsort in /home/ma-user/anaconda3/envs/MindSpore/lib/python3.7/site-packages (from anndata) (8.1.0)\n",
      "Requirement already satisfied: typing_extensions in /home/ma-user/anaconda3/envs/MindSpore/lib/python3.7/site-packages (from anndata) (4.5.0)\n",
      "Requirement already satisfied: packaging>=20 in /home/ma-user/anaconda3/envs/MindSpore/lib/python3.7/site-packages (from anndata) (21.3)\n",
      "Requirement already satisfied: importlib_metadata>=0.7 in /home/ma-user/anaconda3/envs/MindSpore/lib/python3.7/site-packages (from anndata) (4.11.3)\n",
      "Requirement already satisfied: numpy>=1.16.5 in /home/ma-user/anaconda3/envs/MindSpore/lib/python3.7/site-packages (from anndata) (1.21.6)\n",
      "Requirement already satisfied: pandas>=1.1.1 in /home/ma-user/anaconda3/envs/MindSpore/lib/python3.7/site-packages (from anndata) (1.1.3)\n",
      "Requirement already satisfied: cached-property in /home/ma-user/anaconda3/envs/MindSpore/lib/python3.7/site-packages (from h5py>=3->anndata) (1.5.2)\n",
      "Requirement already satisfied: zipp>=0.5 in /home/ma-user/anaconda3/envs/MindSpore/lib/python3.7/site-packages (from importlib_metadata>=0.7->anndata) (3.7.0)\n",
      "Requirement already satisfied: pyparsing!=3.0.5,>=2.0.2 in /home/ma-user/anaconda3/envs/MindSpore/lib/python3.7/site-packages (from packaging>=20->anndata) (3.0.7)\n",
      "Requirement already satisfied: python-dateutil>=2.7.3 in /home/ma-user/anaconda3/envs/MindSpore/lib/python3.7/site-packages (from pandas>=1.1.1->anndata) (2.8.2)\n",
      "Requirement already satisfied: pytz>=2017.2 in /home/ma-user/anaconda3/envs/MindSpore/lib/python3.7/site-packages (from pandas>=1.1.1->anndata) (2021.3)\n",
      "Requirement already satisfied: six>=1.5 in /home/ma-user/anaconda3/envs/MindSpore/lib/python3.7/site-packages (from python-dateutil>=2.7.3->pandas>=1.1.1->anndata) (1.16.0)\n",
      "\n",
      "\u001b[1m[\u001b[0m\u001b[34;49mnotice\u001b[0m\u001b[1;39;49m]\u001b[0m\u001b[39;49m A new release of pip is available: \u001b[0m\u001b[31;49m23.0.1\u001b[0m\u001b[39;49m -> \u001b[0m\u001b[32;49m23.1.2\u001b[0m\n",
      "\u001b[1m[\u001b[0m\u001b[34;49mnotice\u001b[0m\u001b[1;39;49m]\u001b[0m\u001b[39;49m To update, run: \u001b[0m\u001b[32;49mpip install --upgrade pip\u001b[0m\n",
      "Note: you may need to restart the kernel to use updated packages.\n"
     ]
    }
   ],
   "source": [
    "pip install anndata"
   ]
  },
  {
   "cell_type": "code",
   "execution_count": 2,
   "id": "5b0f42da-5634-4b39-8872-59ddeb418917",
   "metadata": {},
   "outputs": [
    {
     "name": "stderr",
     "output_type": "stream",
     "text": [
      "/home/ma-user/anaconda3/envs/MindSpore/lib/python3.7/site-packages/ipykernel/ipkernel.py:287: DeprecationWarning: `should_run_async` will not call `transform_cell` automatically in the future. Please pass the result to `transformed_cell` argument and any exception that happen during thetransform in `preprocessing_exc_tuple` in IPython 7.17 and above.\n",
      "  and should_run_async(code)\n",
      "/home/ma-user/anaconda3/envs/MindSpore/lib/python3.7/site-packages/anndata/_io/specs/methods.py:590: OldFormatWarning: Element '/obs/orig.ident' was written without encoding metadata.\n",
      "  return read_elem(dataset)\n",
      "/home/ma-user/anaconda3/envs/MindSpore/lib/python3.7/site-packages/anndata/_io/specs/methods.py:590: OldFormatWarning: Element '/obs/nCount_RNA' was written without encoding metadata.\n",
      "  return read_elem(dataset)\n",
      "/home/ma-user/anaconda3/envs/MindSpore/lib/python3.7/site-packages/anndata/_io/specs/methods.py:590: OldFormatWarning: Element '/obs/nFeature_RNA' was written without encoding metadata.\n",
      "  return read_elem(dataset)\n",
      "/home/ma-user/anaconda3/envs/MindSpore/lib/python3.7/site-packages/anndata/_io/specs/methods.py:590: OldFormatWarning: Element '/obs/organ' was written without encoding metadata.\n",
      "  return read_elem(dataset)\n",
      "/home/ma-user/anaconda3/envs/MindSpore/lib/python3.7/site-packages/anndata/_io/specs/methods.py:590: OldFormatWarning: Element '/obs/batch' was written without encoding metadata.\n",
      "  return read_elem(dataset)\n",
      "/home/ma-user/anaconda3/envs/MindSpore/lib/python3.7/site-packages/anndata/_io/specs/methods.py:590: OldFormatWarning: Element '/obs/percent.MT' was written without encoding metadata.\n",
      "  return read_elem(dataset)\n",
      "/home/ma-user/anaconda3/envs/MindSpore/lib/python3.7/site-packages/anndata/_io/specs/methods.py:590: OldFormatWarning: Element '/obs/integrated_snn_res.1' was written without encoding metadata.\n",
      "  return read_elem(dataset)\n",
      "/home/ma-user/anaconda3/envs/MindSpore/lib/python3.7/site-packages/anndata/_io/specs/methods.py:590: OldFormatWarning: Element '/obs/seurat_clusters' was written without encoding metadata.\n",
      "  return read_elem(dataset)\n",
      "/home/ma-user/anaconda3/envs/MindSpore/lib/python3.7/site-packages/anndata/_io/specs/methods.py:590: OldFormatWarning: Element '/obs/AnnoCluster' was written without encoding metadata.\n",
      "  return read_elem(dataset)\n",
      "/home/ma-user/anaconda3/envs/MindSpore/lib/python3.7/site-packages/anndata/_io/specs/methods.py:590: OldFormatWarning: Element '/obs/_index' was written without encoding metadata.\n",
      "  return read_elem(dataset)\n",
      "/home/ma-user/anaconda3/envs/MindSpore/lib/python3.7/site-packages/anndata/_io/h5ad.py:238: OldFormatWarning: Element '/obsm' was written without encoding metadata.\n",
      "  d[k] = read_elem(f[k])\n",
      "/home/ma-user/anaconda3/envs/MindSpore/lib/python3.7/site-packages/anndata/_io/specs/methods.py:590: OldFormatWarning: Element '/var/features' was written without encoding metadata.\n",
      "  return read_elem(dataset)\n",
      "/home/ma-user/anaconda3/envs/MindSpore/lib/python3.7/site-packages/anndata/_io/specs/methods.py:590: OldFormatWarning: Element '/var/_index' was written without encoding metadata.\n",
      "  return read_elem(dataset)\n",
      "/home/ma-user/anaconda3/envs/MindSpore/lib/python3.7/site-packages/anndata/_io/h5ad.py:238: OldFormatWarning: Element '/varm' was written without encoding metadata.\n",
      "  d[k] = read_elem(f[k])\n",
      "/home/ma-user/anaconda3/envs/MindSpore/lib/python3.7/site-packages/anndata/_io/h5ad.py:272: OldFormatWarning: Element '/raw/var' was written without encoding metadata.\n",
      "  raw[v] = read_elem(f[f\"raw/{v}\"])\n",
      "/home/ma-user/anaconda3/envs/MindSpore/lib/python3.7/site-packages/anndata/_io/specs/methods.py:92: OldFormatWarning: Element '/raw/var/_index' was written without encoding metadata.\n",
      "  return {k: read_elem(v) for k, v in elem.items()}\n",
      "/home/ma-user/anaconda3/envs/MindSpore/lib/python3.7/site-packages/anndata/_io/specs/methods.py:590: OldFormatWarning: Element '/obs/x' was written without encoding metadata.\n",
      "  return read_elem(dataset)\n",
      "/home/ma-user/anaconda3/envs/MindSpore/lib/python3.7/site-packages/anndata/_io/specs/methods.py:590: OldFormatWarning: Element '/obs/y' was written without encoding metadata.\n",
      "  return read_elem(dataset)\n",
      "/home/ma-user/anaconda3/envs/MindSpore/lib/python3.7/site-packages/anndata/_io/specs/methods.py:590: OldFormatWarning: Element '/obs/area' was written without encoding metadata.\n",
      "  return read_elem(dataset)\n",
      "/home/ma-user/anaconda3/envs/MindSpore/lib/python3.7/site-packages/anndata/_io/specs/methods.py:590: OldFormatWarning: Element '/obs/n_genes' was written without encoding metadata.\n",
      "  return read_elem(dataset)\n",
      "/home/ma-user/anaconda3/envs/MindSpore/lib/python3.7/site-packages/anndata/_io/specs/methods.py:590: OldFormatWarning: Element '/obs/n_genes_by_counts' was written without encoding metadata.\n",
      "  return read_elem(dataset)\n",
      "/home/ma-user/anaconda3/envs/MindSpore/lib/python3.7/site-packages/anndata/_io/specs/methods.py:590: OldFormatWarning: Element '/obs/total_counts' was written without encoding metadata.\n",
      "  return read_elem(dataset)\n",
      "/home/ma-user/anaconda3/envs/MindSpore/lib/python3.7/site-packages/anndata/_io/specs/methods.py:92: OldFormatWarning: Element '/obsm/spatial' was written without encoding metadata.\n",
      "  return {k: read_elem(v) for k, v in elem.items()}\n",
      "/home/ma-user/anaconda3/envs/MindSpore/lib/python3.7/site-packages/anndata/_io/specs/methods.py:590: OldFormatWarning: Element '/var/n_cells' was written without encoding metadata.\n",
      "  return read_elem(dataset)\n",
      "/home/ma-user/anaconda3/envs/MindSpore/lib/python3.7/site-packages/anndata/_io/specs/methods.py:590: OldFormatWarning: Element '/var/n_cells_by_counts' was written without encoding metadata.\n",
      "  return read_elem(dataset)\n",
      "/home/ma-user/anaconda3/envs/MindSpore/lib/python3.7/site-packages/anndata/_io/specs/methods.py:590: OldFormatWarning: Element '/var/mean_counts' was written without encoding metadata.\n",
      "  return read_elem(dataset)\n",
      "/home/ma-user/anaconda3/envs/MindSpore/lib/python3.7/site-packages/anndata/_io/specs/methods.py:590: OldFormatWarning: Element '/var/pct_dropout_by_counts' was written without encoding metadata.\n",
      "  return read_elem(dataset)\n",
      "/home/ma-user/anaconda3/envs/MindSpore/lib/python3.7/site-packages/anndata/_io/specs/methods.py:590: OldFormatWarning: Element '/var/total_counts' was written without encoding metadata.\n",
      "  return read_elem(dataset)\n"
     ]
    }
   ],
   "source": [
    "import anndata\n",
    "scdata = anndata.read_h5ad('./data/fetal_brain/scRNA_merge_Annoed.h5ad')\n",
    "#scdata = scdata.T\n",
    "stdata = anndata.read_h5ad('./data/fetal_brain/BL_D5_lasso_cellbin.h5ad')\n",
    "#stdata = stdata.T"
   ]
  },
  {
   "cell_type": "code",
   "execution_count": 3,
   "id": "5a862c4e-69eb-4cf7-b276-552243bea774",
   "metadata": {},
   "outputs": [
    {
     "data": {
      "text/plain": [
       "AnnData object with n_obs × n_vars = 80480 × 49094\n",
       "    obs: 'orig.ident', 'nCount_RNA', 'nFeature_RNA', 'organ', 'batch', 'percent.MT', 'integrated_snn_res.1', 'seurat_clusters', 'AnnoCluster'\n",
       "    var: 'features'"
      ]
     },
     "execution_count": 3,
     "metadata": {},
     "output_type": "execute_result"
    }
   ],
   "source": [
    "scdata"
   ]
  },
  {
   "cell_type": "code",
   "execution_count": 5,
   "id": "d7d9e266-f365-440c-ab2a-45545f001307",
   "metadata": {
    "tags": []
   },
   "outputs": [
    {
     "name": "stderr",
     "output_type": "stream",
     "text": [
      "/home/ma-user/anaconda3/envs/MindSpore/lib/python3.7/site-packages/numexpr/expressions.py:21: DeprecationWarning: distutils Version classes are deprecated. Use packaging.version instead.\n",
      "  _np_version_forbids_neg_powint = LooseVersion(numpy.__version__) >= LooseVersion('1.12.0b1')\n",
      "/home/ma-user/anaconda3/envs/MindSpore/lib/python3.7/site-packages/pandas/compat/_optional.py:117: DeprecationWarning: distutils Version classes are deprecated. Use packaging.version instead.\n",
      "  if distutils.version.LooseVersion(version) < minimum_version:\n",
      "/home/ma-user/anaconda3/envs/MindSpore/lib/python3.7/site-packages/setuptools/_distutils/version.py:351: DeprecationWarning: distutils Version classes are deprecated. Use packaging.version instead.\n",
      "  other = LooseVersion(other)\n"
     ]
    },
    {
     "data": {
      "text/plain": [
       "357.0"
      ]
     },
     "execution_count": 5,
     "metadata": {},
     "output_type": "execute_result"
    }
   ],
   "source": [
    "sc.pp.calculate_qc_metrics(scdata,percent_top=None, log1p=False, inplace=True)\n",
    "scdata.obs['n_genes_by_counts'].median()\n",
    "\n",
    "sc.pp.calculate_qc_metrics(stdata,percent_top=None, log1p=False, inplace=True)\n",
    "stdata.obs['n_genes_by_counts'].median()"
   ]
  },
  {
   "cell_type": "code",
   "execution_count": 17,
   "id": "5d789aab-0852-47bb-94b4-e64846046004",
   "metadata": {},
   "outputs": [
    {
     "data": {
      "text/html": [
       "<div>\n",
       "<style scoped>\n",
       "    .dataframe tbody tr th:only-of-type {\n",
       "        vertical-align: middle;\n",
       "    }\n",
       "\n",
       "    .dataframe tbody tr th {\n",
       "        vertical-align: top;\n",
       "    }\n",
       "\n",
       "    .dataframe thead th {\n",
       "        text-align: right;\n",
       "    }\n",
       "</style>\n",
       "<table border=\"1\" class=\"dataframe\">\n",
       "  <thead>\n",
       "    <tr style=\"text-align: right;\">\n",
       "      <th></th>\n",
       "      <th>orig.ident</th>\n",
       "      <th>nCount_RNA</th>\n",
       "      <th>nFeature_RNA</th>\n",
       "      <th>organ</th>\n",
       "      <th>batch</th>\n",
       "      <th>percent.MT</th>\n",
       "      <th>integrated_snn_res.1</th>\n",
       "      <th>seurat_clusters</th>\n",
       "      <th>AnnoCluster</th>\n",
       "      <th>n_genes_by_counts</th>\n",
       "      <th>total_counts</th>\n",
       "    </tr>\n",
       "  </thead>\n",
       "  <tbody>\n",
       "    <tr>\n",
       "      <th>w11_1:CELL2755_N1</th>\n",
       "      <td>w11</td>\n",
       "      <td>1723.0</td>\n",
       "      <td>910</td>\n",
       "      <td>brain</td>\n",
       "      <td>w11_1/3</td>\n",
       "      <td>4.567437</td>\n",
       "      <td>4</td>\n",
       "      <td>4</td>\n",
       "      <td>EX_migrating_newborn</td>\n",
       "      <td>910</td>\n",
       "      <td>2057.489979</td>\n",
       "    </tr>\n",
       "    <tr>\n",
       "      <th>w11_1:CELL2197_N1</th>\n",
       "      <td>w11</td>\n",
       "      <td>2088.0</td>\n",
       "      <td>1206</td>\n",
       "      <td>brain</td>\n",
       "      <td>w11_1/3</td>\n",
       "      <td>2.535587</td>\n",
       "      <td>6</td>\n",
       "      <td>6</td>\n",
       "      <td>EX_unknown4_TAS2R14</td>\n",
       "      <td>1206</td>\n",
       "      <td>2487.006456</td>\n",
       "    </tr>\n",
       "    <tr>\n",
       "      <th>w11_1:CELL4499_N1</th>\n",
       "      <td>w11</td>\n",
       "      <td>967.0</td>\n",
       "      <td>586</td>\n",
       "      <td>brain</td>\n",
       "      <td>w11_1/3</td>\n",
       "      <td>2.314368</td>\n",
       "      <td>9</td>\n",
       "      <td>9</td>\n",
       "      <td>EX_UL4_KLHL14+SULF1+</td>\n",
       "      <td>586</td>\n",
       "      <td>1604.871810</td>\n",
       "    </tr>\n",
       "    <tr>\n",
       "      <th>w11_1:CELL1063_N1</th>\n",
       "      <td>w11</td>\n",
       "      <td>3638.0</td>\n",
       "      <td>1951</td>\n",
       "      <td>brain</td>\n",
       "      <td>w11_1/3</td>\n",
       "      <td>5.414980</td>\n",
       "      <td>0</td>\n",
       "      <td>0</td>\n",
       "      <td>EX_SP1</td>\n",
       "      <td>1951</td>\n",
       "      <td>3197.522278</td>\n",
       "    </tr>\n",
       "    <tr>\n",
       "      <th>w11_1:CELL4301_N1</th>\n",
       "      <td>w11</td>\n",
       "      <td>1002.0</td>\n",
       "      <td>589</td>\n",
       "      <td>brain</td>\n",
       "      <td>w11_1/3</td>\n",
       "      <td>1.064860</td>\n",
       "      <td>2</td>\n",
       "      <td>2</td>\n",
       "      <td>EX_UL1_PRSS12+TTC28+</td>\n",
       "      <td>589</td>\n",
       "      <td>1598.845241</td>\n",
       "    </tr>\n",
       "    <tr>\n",
       "      <th>...</th>\n",
       "      <td>...</td>\n",
       "      <td>...</td>\n",
       "      <td>...</td>\n",
       "      <td>...</td>\n",
       "      <td>...</td>\n",
       "      <td>...</td>\n",
       "      <td>...</td>\n",
       "      <td>...</td>\n",
       "      <td>...</td>\n",
       "      <td>...</td>\n",
       "      <td>...</td>\n",
       "    </tr>\n",
       "    <tr>\n",
       "      <th>w21_8:CELL4011_N1</th>\n",
       "      <td>w21</td>\n",
       "      <td>2290.0</td>\n",
       "      <td>1155</td>\n",
       "      <td>brain</td>\n",
       "      <td>w21_1/2</td>\n",
       "      <td>3.160920</td>\n",
       "      <td>17</td>\n",
       "      <td>17</td>\n",
       "      <td>OL</td>\n",
       "      <td>1155</td>\n",
       "      <td>2376.007477</td>\n",
       "    </tr>\n",
       "    <tr>\n",
       "      <th>w21_8:CELL3308_N1</th>\n",
       "      <td>w21</td>\n",
       "      <td>2259.0</td>\n",
       "      <td>1361</td>\n",
       "      <td>brain</td>\n",
       "      <td>w21_1/2</td>\n",
       "      <td>7.123180</td>\n",
       "      <td>12</td>\n",
       "      <td>12</td>\n",
       "      <td>AS</td>\n",
       "      <td>1361</td>\n",
       "      <td>2656.108457</td>\n",
       "    </tr>\n",
       "    <tr>\n",
       "      <th>w21_8:CELL3592_N1</th>\n",
       "      <td>w21</td>\n",
       "      <td>2273.0</td>\n",
       "      <td>1250</td>\n",
       "      <td>brain</td>\n",
       "      <td>w21_1/2</td>\n",
       "      <td>4.906732</td>\n",
       "      <td>12</td>\n",
       "      <td>12</td>\n",
       "      <td>AS</td>\n",
       "      <td>1250</td>\n",
       "      <td>2519.947498</td>\n",
       "    </tr>\n",
       "    <tr>\n",
       "      <th>w21_8:CELL5132_N1</th>\n",
       "      <td>w21</td>\n",
       "      <td>1851.0</td>\n",
       "      <td>1064</td>\n",
       "      <td>brain</td>\n",
       "      <td>w21_1/2</td>\n",
       "      <td>2.565418</td>\n",
       "      <td>17</td>\n",
       "      <td>17</td>\n",
       "      <td>OL</td>\n",
       "      <td>1064</td>\n",
       "      <td>2298.573028</td>\n",
       "    </tr>\n",
       "    <tr>\n",
       "      <th>w21_8:CELL5007_N1</th>\n",
       "      <td>w21</td>\n",
       "      <td>1772.0</td>\n",
       "      <td>1069</td>\n",
       "      <td>brain</td>\n",
       "      <td>w21_1/2</td>\n",
       "      <td>2.170461</td>\n",
       "      <td>17</td>\n",
       "      <td>17</td>\n",
       "      <td>OL</td>\n",
       "      <td>1069</td>\n",
       "      <td>2347.527928</td>\n",
       "    </tr>\n",
       "  </tbody>\n",
       "</table>\n",
       "<p>80480 rows × 11 columns</p>\n",
       "</div>"
      ],
      "text/plain": [
       "                  orig.ident  nCount_RNA  nFeature_RNA  organ    batch  \\\n",
       "w11_1:CELL2755_N1        w11      1723.0           910  brain  w11_1/3   \n",
       "w11_1:CELL2197_N1        w11      2088.0          1206  brain  w11_1/3   \n",
       "w11_1:CELL4499_N1        w11       967.0           586  brain  w11_1/3   \n",
       "w11_1:CELL1063_N1        w11      3638.0          1951  brain  w11_1/3   \n",
       "w11_1:CELL4301_N1        w11      1002.0           589  brain  w11_1/3   \n",
       "...                      ...         ...           ...    ...      ...   \n",
       "w21_8:CELL4011_N1        w21      2290.0          1155  brain  w21_1/2   \n",
       "w21_8:CELL3308_N1        w21      2259.0          1361  brain  w21_1/2   \n",
       "w21_8:CELL3592_N1        w21      2273.0          1250  brain  w21_1/2   \n",
       "w21_8:CELL5132_N1        w21      1851.0          1064  brain  w21_1/2   \n",
       "w21_8:CELL5007_N1        w21      1772.0          1069  brain  w21_1/2   \n",
       "\n",
       "                   percent.MT integrated_snn_res.1 seurat_clusters  \\\n",
       "w11_1:CELL2755_N1    4.567437                    4               4   \n",
       "w11_1:CELL2197_N1    2.535587                    6               6   \n",
       "w11_1:CELL4499_N1    2.314368                    9               9   \n",
       "w11_1:CELL1063_N1    5.414980                    0               0   \n",
       "w11_1:CELL4301_N1    1.064860                    2               2   \n",
       "...                       ...                  ...             ...   \n",
       "w21_8:CELL4011_N1    3.160920                   17              17   \n",
       "w21_8:CELL3308_N1    7.123180                   12              12   \n",
       "w21_8:CELL3592_N1    4.906732                   12              12   \n",
       "w21_8:CELL5132_N1    2.565418                   17              17   \n",
       "w21_8:CELL5007_N1    2.170461                   17              17   \n",
       "\n",
       "                            AnnoCluster  n_genes_by_counts  total_counts  \n",
       "w11_1:CELL2755_N1  EX_migrating_newborn                910   2057.489979  \n",
       "w11_1:CELL2197_N1   EX_unknown4_TAS2R14               1206   2487.006456  \n",
       "w11_1:CELL4499_N1  EX_UL4_KLHL14+SULF1+                586   1604.871810  \n",
       "w11_1:CELL1063_N1                EX_SP1               1951   3197.522278  \n",
       "w11_1:CELL4301_N1  EX_UL1_PRSS12+TTC28+                589   1598.845241  \n",
       "...                                 ...                ...           ...  \n",
       "w21_8:CELL4011_N1                    OL               1155   2376.007477  \n",
       "w21_8:CELL3308_N1                    AS               1361   2656.108457  \n",
       "w21_8:CELL3592_N1                    AS               1250   2519.947498  \n",
       "w21_8:CELL5132_N1                    OL               1064   2298.573028  \n",
       "w21_8:CELL5007_N1                    OL               1069   2347.527928  \n",
       "\n",
       "[80480 rows x 11 columns]"
      ]
     },
     "execution_count": 17,
     "metadata": {},
     "output_type": "execute_result"
    }
   ],
   "source": [
    "scdata.obs"
   ]
  },
  {
   "cell_type": "code",
   "execution_count": 24,
   "id": "fc09f030-9747-4131-ac69-36ea7231f1cb",
   "metadata": {},
   "outputs": [
    {
     "data": {
      "text/plain": [
       "array(['w11_1/2', 'w11_1/3', 'w11_2/5', 'w15_1/2', 'w15_2/5', 'w21_1/2'],\n",
       "      dtype=object)"
      ]
     },
     "execution_count": 24,
     "metadata": {},
     "output_type": "execute_result"
    }
   ],
   "source": [
    "unique(scdata.obs['batch'])"
   ]
  },
  {
   "cell_type": "code",
   "execution_count": 346,
   "id": "16e1e003-6dc0-4ffa-980b-0de56750c62c",
   "metadata": {},
   "outputs": [],
   "source": [
    "# 定义条件：提取批次为 'batch_1' 的细胞\n",
    "condition = scdata.obs['batch'] == 'w15_2/5'\n",
    "\n",
    "# 使用布尔索引提取满足条件的细胞\n",
    "adata = scdata[condition, :]"
   ]
  },
  {
   "cell_type": "code",
   "execution_count": null,
   "id": "3a651fc6-a4a5-4597-b820-e393e1274a60",
   "metadata": {},
   "outputs": [],
   "source": [
    "spoor=np.array(stdata.obs[['x','y']])"
   ]
  },
  {
   "cell_type": "code",
   "execution_count": 45,
   "id": "b65571dc-161f-45d3-a9b4-a79c840eb0a7",
   "metadata": {},
   "outputs": [
    {
     "data": {
      "text/plain": [
       "<matplotlib.collections.PathCollection at 0xfffea6ec0c50>"
      ]
     },
     "execution_count": 45,
     "metadata": {},
     "output_type": "execute_result"
    },
    {
     "data": {
      "image/png": "[encoded data removed]",
      "text/plain": [
       "<Figure size 432x288 with 1 Axes>"
      ]
     },
     "metadata": {
      "needs_background": "light"
     },
     "output_type": "display_data"
    }
   ],
   "source": [
    "plt.scatter(spoor[:,0],spoor[:,1])"
   ]
  },
  {
   "cell_type": "code",
   "execution_count": 22,
   "id": "0b69c8e0-3946-4f58-a13a-3bc6e77e9361",
   "metadata": {},
   "outputs": [],
   "source": [
    "area=float(stdata.obs[['x']].max())*float(stdata.obs[['y']].max())\n",
    "point_number=stdata.obs.shape[0]"
   ]
  },
  {
   "cell_type": "code",
   "execution_count": 99,
   "id": "4ea7745e-c588-4cf2-9b51-2ab63e6f4050",
   "metadata": {},
   "outputs": [
    {
     "data": {
      "text/plain": [
       "54.998252238073015"
      ]
     },
     "execution_count": 99,
     "metadata": {},
     "output_type": "execute_result"
    }
   ],
   "source": [
    "import math\n",
    "average_diameter=math.sqrt(area/point_number)\n",
    "average_diameter"
   ]
  },
  {
   "cell_type": "code",
   "execution_count": 96,
   "id": "6b85e8ae-3e61-4142-93a0-2d6562281fe5",
   "metadata": {},
   "outputs": [
    {
     "data": {
      "text/plain": [
       "37.143317732067906"
      ]
     },
     "execution_count": 96,
     "metadata": {},
     "output_type": "execute_result"
    }
   ],
   "source": [
    "average_diameter=math.sqrt(np.mean(stdata.obs[['area']]))\n",
    "average_diameter"
   ]
  },
  {
   "cell_type": "code",
   "execution_count": 419,
   "id": "30f74a51-9fa6-403b-ac94-aa107d3c5133",
   "metadata": {},
   "outputs": [],
   "source": [
    "import numpy as np\n",
    "\n",
    "# 定义掩码的尺寸\n",
    "mask_size = math.sqrt(50) * average_diameter\n",
    "\n",
    "new_point_i=-1\n",
    "new_mask=[]\n",
    "new_spoor = []\n",
    "\n",
    "# 遍历每个点的坐标\n",
    "for point_i in range(spoor.shape[0]):\n",
    "    x,y=spoor[point_i] # 获取点的坐标\n",
    "    #print(x,y)\n",
    "    \n",
    "    # 计算所属的掩码的左下角坐标\n",
    "    mask_i_x = x // mask_size+2\n",
    "    mask_i_y = y // mask_size+1\n",
    "\n",
    "    if [mask_i_x,mask_i_y] not in new_spoor:\n",
    "        new_spoor+=[[mask_i_x,mask_i_y]]\n",
    "        new_point_i+=1\n",
    "    new_mask+= [new_point_i]\n"
   ]
  },
  {
   "cell_type": "code",
   "execution_count": 420,
   "id": "0908d2b2-274c-4e2a-b13f-c3c83ef577fa",
   "metadata": {},
   "outputs": [],
   "source": [
    "# 应用掩码到 st据中\n",
    "new_expression=np.zeros([len(unique(new_mask)),stdata.X.shape[1]])\n",
    "new_spoor_reorder=np.zeros([len(unique(new_mask)),2])\n",
    "renew_point_i=-1\n",
    "for new_point in unique(new_mask):\n",
    "    renew_point_i+=1\n",
    "    new_expression[renew_point_i]= np.sum(stdata.X[np.array(new_mask)==new_point],axis=0)##组成新点的旧点\n",
    "    new_spoor_reorder[renew_point_i][0],new_spoor_reorder[renew_point_i][1]=new_spoor[new_point]\n",
    "bin50_stdata=anndata.AnnData(X=new_expression, obsm={'spatial': new_spoor_reorder})"
   ]
  },
  {
   "cell_type": "code",
   "execution_count": 438,
   "id": "1315ba02",
   "metadata": {
    "tags": []
   },
   "outputs": [],
   "source": [
    "spcoor=bin50_stdata.obsm['spatial']\n",
    "st_neighbor = scipy.spatial.distance.cdist(spcoor,spcoor)\n",
    "sigma = 3\n",
    "st_neighbor = np.exp(-st_neighbor**2/(2*sigma**2))/(np.sqrt(2*np.pi)*sigma)"
   ]
  },
  {
   "cell_type": "code",
   "execution_count": 422,
   "id": "2a0336ac-3a1b-4b81-bedc-7e6310a77758",
   "metadata": {},
   "outputs": [
    {
     "data": {
      "text/plain": [
       "array([[1.32980760e-01, 3.04173075e-03, 4.86311140e-04, ...,\n",
       "        1.50541837e-06, 4.95573172e-07, 1.98744248e-06],\n",
       "       [3.04173075e-03, 1.32980760e-01, 6.45850032e-02, ...,\n",
       "        4.48758892e-03, 3.59338030e-03, 7.39878330e-03],\n",
       "       [4.86311140e-04, 6.45850032e-02, 1.32980760e-01, ...,\n",
       "        4.37763337e-02, 4.11653493e-04, 5.17156277e-02],\n",
       "       ...,\n",
       "       [1.50541837e-06, 4.48758892e-03, 4.37763337e-02, ...,\n",
       "        1.32980760e-01, 3.57209558e-05, 1.25794409e-01],\n",
       "       [4.95573172e-07, 3.59338030e-03, 4.11653493e-04, ...,\n",
       "        3.57209558e-05, 1.32980760e-01, 1.28190225e-04],\n",
       "       [1.98744248e-06, 7.39878330e-03, 5.17156277e-02, ...,\n",
       "        1.25794409e-01, 1.28190225e-04, 1.32980760e-01]])"
      ]
     },
     "execution_count": 422,
     "metadata": {},
     "output_type": "execute_result"
    }
   ],
   "source": [
    "st_neighbor"
   ]
  },
  {
   "cell_type": "code",
   "execution_count": 423,
   "id": "60b4c90b",
   "metadata": {
    "tags": []
   },
   "outputs": [
    {
     "data": {
      "text/plain": [
       "<matplotlib.collections.PathCollection at 0xfffd413e5bd0>"
      ]
     },
     "execution_count": 423,
     "metadata": {},
     "output_type": "execute_result"
    },
    {
     "data": {
      "image/png": "[encoded data removed]",
      "text/plain": [
       "<Figure size 216x288 with 1 Axes>"
      ]
     },
     "metadata": {
      "needs_background": "light"
     },
     "output_type": "display_data"
    }
   ],
   "source": [
    "figsize(3,4)\n",
    "plt.scatter(spcoor[:,0],spcoor[:,1],c=np.log1p(st_neighbor[14,:]),s=20)"
   ]
  },
  {
   "cell_type": "code",
   "execution_count": 424,
   "id": "eab4f7d5-8f32-44c5-a1eb-c6168cd82dcb",
   "metadata": {},
   "outputs": [],
   "source": [
    "# 获取两个 AnnData 对象的基因名称\n",
    "genes1=scdata.var_names\n",
    "genes2=stdata.var_names\n",
    "intersection = list(set(genes1) & set(genes2))\n",
    "a_index=[True if gene in intersection else False for gene in adata.var_names]"
   ]
  },
  {
   "cell_type": "code",
   "execution_count": 425,
   "id": "3e79aa5b-2e67-42a4-add3-f23d5865b3de",
   "metadata": {},
   "outputs": [],
   "source": [
    "b_index=[True if gene in intersection else False for gene in stdata.var_names]"
   ]
  },
  {
   "cell_type": "code",
   "execution_count": 426,
   "id": "7c406d30-f170-4d16-8ec8-bbf8db6e2546",
   "metadata": {},
   "outputs": [],
   "source": [
    "b_var=stdata.var_names[b_index]"
   ]
  },
  {
   "cell_type": "code",
   "execution_count": 427,
   "id": "8cd1a934-71ee-49fa-9277-62d66b6c1c59",
   "metadata": {},
   "outputs": [
    {
     "data": {
      "text/plain": [
       "(25952,)"
      ]
     },
     "execution_count": 427,
     "metadata": {},
     "output_type": "execute_result"
    }
   ],
   "source": [
    "b_var.shape"
   ]
  },
  {
   "cell_type": "code",
   "execution_count": 428,
   "id": "d68f7e57-8075-47f6-8aa5-8b6b9feb1478",
   "metadata": {},
   "outputs": [],
   "source": [
    "# 保留基因交集\n",
    "a = adata[:, a_index]\n",
    "b = bin50_stdata[:, b_index]"
   ]
  },
  {
   "cell_type": "code",
   "execution_count": 454,
   "id": "f1fdebde-f046-472b-b0bd-aa5006f850d2",
   "metadata": {},
   "outputs": [],
   "source": [
    "b.var_names=b_var"
   ]
  },
  {
   "cell_type": "code",
   "execution_count": 463,
   "id": "c2e228a0-f084-4f52-afe8-8047be15663a",
   "metadata": {},
   "outputs": [
    {
     "data": {
      "text/plain": [
       "Index(['0', '1', '2', '3', '4', '5', '6', '7', '8', '9',\n",
       "       ...\n",
       "       '248', '249', '250', '251', '252', '253', '254', '255', '256', '257'],\n",
       "      dtype='object', length=258)"
      ]
     },
     "execution_count": 463,
     "metadata": {},
     "output_type": "execute_result"
    }
   ],
   "source": [
    "b.obs.index"
   ]
  },
  {
   "cell_type": "code",
   "execution_count": 449,
   "id": "b61bd572-3326-46f9-8871-aae9cfd28052",
   "metadata": {},
   "outputs": [],
   "source": [
    "sc.pp.highly_variable_genes(a, n_top_genes=5000)\n",
    "\n",
    "# 获取高变异基因的掩码\n",
    "highly_variable_mask = a.var['highly_variable']\n",
    "a_top=a[:,highly_variable_mask]"
   ]
  },
  {
   "cell_type": "code",
   "execution_count": 465,
   "id": "1522df39-69f9-4edc-8a2f-db0e844a5e5c",
   "metadata": {},
   "outputs": [],
   "source": [
    "sc.pp.log1p(b)\n",
    "sc.pp.highly_variable_genes(b, n_top_genes=5000)\n",
    "\n",
    "# 获取高变异基因的掩码\n",
    "\n",
    "highly_variable_mask = b.var['highly_variable']\n",
    "b_top=b[:,highly_variable_mask]"
   ]
  },
  {
   "cell_type": "code",
   "execution_count": 471,
   "id": "6e659a34-b564-4799-bffa-0c9535ca9920",
   "metadata": {},
   "outputs": [],
   "source": [
    "genes1=a_top.var_names\n",
    "genes2=b_top.var_names\n",
    "intersection = list(set(genes1) & set(genes2))"
   ]
  },
  {
   "cell_type": "code",
   "execution_count": 472,
   "id": "8cce74c9-9ccf-4746-8a57-5e4256d57949",
   "metadata": {},
   "outputs": [],
   "source": [
    "a_index=[True if gene in intersection else False for gene in a_top.var_names]\n",
    "a_top_int=a_top[:, a_index]\n",
    "b_index=[True if gene in intersection else False for gene in b_top.var_names]\n",
    "b_top_int=b_top[:, b_index]"
   ]
  },
  {
   "cell_type": "code",
   "execution_count": 497,
   "id": "7fd430ef-f408-481b-a1ac-66516e550df3",
   "metadata": {},
   "outputs": [
    {
     "name": "stdout",
     "output_type": "stream",
     "text": [
      "WARNING: adata.X seems to be already log-transformed.\n"
     ]
    }
   ],
   "source": [
    "sc.pp.log1p(b_top_int)\n",
    "sc.pp.log1p(a_top_int)"
   ]
  },
  {
   "cell_type": "code",
   "execution_count": 498,
   "id": "0b6e264b-cb19-4be6-b209-cca3a5c62ce6",
   "metadata": {},
   "outputs": [
    {
     "data": {
      "text/plain": [
       "-3.208333333333333"
      ]
     },
     "execution_count": 498,
     "metadata": {},
     "output_type": "execute_result"
    }
   ],
   "source": [
    "sc.pp.calculate_qc_metrics(b_top_int,percent_top=None, log1p=False, inplace=True)\n",
    "sc.pp.calculate_qc_metrics(a_top_int,percent_top=None, log1p=False, inplace=True)\n",
    "dp = 1-a_top_int.obs['n_genes_by_counts'].median()/b_top_int.obs['n_genes_by_counts'].median()\n",
    "dp"
   ]
  },
  {
   "cell_type": "code",
   "execution_count": 499,
   "id": "928de78b-3642-4c1d-8a16-1282cfbe22c3",
   "metadata": {},
   "outputs": [],
   "source": [
    "dp=0"
   ]
  },
  {
   "cell_type": "code",
   "execution_count": 500,
   "id": "779bcad3-944b-4f88-9c7f-5ee2ffb4337b",
   "metadata": {},
   "outputs": [],
   "source": [
    "sc_adata_df=pd.DataFrame(a_top_int.X.toarray(),index=a_top_int.obs_names,columns=a_top_int.var_names)\n",
    "st_adata_df=pd.DataFrame(b_top_int.X,index=b_top_int.obs_names,columns=b_top_int.var_names)"
   ]
  },
  {
   "cell_type": "code",
   "execution_count": 501,
   "id": "86e47913-d249-4910-82e9-8ab0953c9eae",
   "metadata": {},
   "outputs": [],
   "source": [
    "sc_adata_df=sc_adata_df.reindex(columns=intersection)\n",
    "st_adata_df=st_adata_df.reindex(columns=intersection)"
   ]
  },
  {
   "cell_type": "code",
   "execution_count": 502,
   "id": "b5632d34-6bf1-4b4e-bb76-1de98d60daa2",
   "metadata": {},
   "outputs": [
    {
     "data": {
      "text/plain": [
       "(258, 1217)"
      ]
     },
     "execution_count": 502,
     "metadata": {},
     "output_type": "execute_result"
    }
   ],
   "source": [
    "st_adata_df.shape"
   ]
  },
  {
   "cell_type": "code",
   "execution_count": 503,
   "id": "f801af25",
   "metadata": {
    "tags": []
   },
   "outputs": [],
   "source": [
    "class setting( object ):\n",
    "    pass\n",
    "seed_all(2022)\n",
    "opt= setting()\n",
    "setattr(opt, 'device', 'npu:0')\n",
    "setattr(opt, 'outf', 'log/fetal_brain')\n",
    "setattr(opt, 'n_genes', 1217)\n",
    "setattr(opt, 'no_bn', False)\n",
    "setattr(opt, 'lr', 0.002)\n",
    "setattr(opt, 'sigma', 3)\n",
    "setattr(opt, 'alpha', 0.8)\n",
    "setattr(opt, 'verbose', True)\n",
    "setattr(opt, 'mmdbatch', 1000)\n",
    "setattr(opt, 'dp', 0)"
   ]
  },
  {
   "cell_type": "code",
   "execution_count": 504,
   "id": "b394e832-975c-40eb-be35-772735c9b8a4",
   "metadata": {},
   "outputs": [
    {
     "ename": "RuntimeError",
     "evalue": "Run:/usr1/workspace/FPTA_Daily_Plugin_open_date/CODE/torch_npu/csrc/framework/OpParamMaker.cpp:136 NPU error,NPU error code is:500002\nE29999: Inner Error, Please contact support engineer!\nE29999  [SubGraphOpt][Compile][ProcFailedCompTask] Thread[281463067525600] recompile single op[trans_TransData_54] failed[FUNC:ProcessAllFailedCompileTasks][FILE:tbe_op_store_adapter.cc][LINE:907]\n        TraceBack (most recent call last):\n        [SubGraphOpt][Compile][ParalCompOp] Thread[281463067525600] process fail task failed[FUNC:ParallelCompileOp][FILE:tbe_op_store_adapter.cc][LINE:947]\n        [SubGraphOpt][Compile][CompOpOnly] CompileOp failed.[FUNC:CompileOpOnly][FILE:op_compiler.cc][LINE:994]\n        [GraphOpt][FusedGraph][RunCompile] Failed to compile graph with compiler Normal mode Op Compiler[FUNC:SubGraphCompile][FILE:fe_graph_optimizer.cc][LINE:1349]\n        Call OptimizeFusedGraph failed, ret:-1, engine_name:AIcoreEngine, graph_name:partition0_rank1_new_sub_graph1[FUNC:OptimizeSubGraph][FILE:graph_optimize.cc][LINE:130]\n        subgraph 0 optimize failed[FUNC:OptimizeSubGraphWithMultiThreads][FILE:graph_manager.cc][LINE:716]\n        build graph failed, graph id:84, ret:-1[FUNC:BuildModel][FILE:ge_generator.cc][LINE:1484]\n        [Build][SingleOpModel]call ge interface generator.BuildSingleOpModel failed. ge result = 4294967295[FUNC:ReportCallError][FILE:log_inner.cpp][LINE:161]\n        [Build][Op]Fail to build op model[FUNC:ReportInnerError][FILE:log_inner.cpp][LINE:145]\n        build op model failed, result = 500002[FUNC:ReportInnerError][FILE:log_inner.cpp][LINE:145]\n        [SubGraphOpt][Compile][ProcFailedCompTask] Thread[281463067525600] recompile single op[trans_TransData_55] failed[FUNC:ProcessAllFailedCompileTasks][FILE:tbe_op_store_adapter.cc][LINE:907]\n        build graph failed, graph id:85, ret:-1[FUNC:BuildModel][FILE:ge_generator.cc][LINE:1484]\n        [SubGraphOpt][Compile][ProcFailedCompTask] Thread[281462913479136] recompile single op[trans_TransData_56] failed[FUNC:ProcessAllFailedCompileTasks][FILE:tbe_op_store_adapter.cc][LINE:907]\n        [SubGraphOpt][Compile][ParalCompOp] Thread[281462913479136] process fail task failed[FUNC:ParallelCompileOp][FILE:tbe_op_store_adapter.cc][LINE:947]\n        build graph failed, graph id:86, ret:-1[FUNC:BuildModel][FILE:ge_generator.cc][LINE:1484]\n",
     "output_type": "error",
     "traceback": [
      "\u001b[0;31m---------------------------------------------------------------------------\u001b[0m",
      "\u001b[0;31mRuntimeError\u001b[0m                              Traceback (most recent call last)",
      "\u001b[0;32m<timed exec>\u001b[0m in \u001b[0;36m<module>\u001b[0;34m\u001b[0m\n",
      "\u001b[0;32m~/work/STEM/STEM/model.py\u001b[0m in \u001b[0;36m__init__\u001b[0;34m(self, opt)\u001b[0m\n\u001b[1;32m    115\u001b[0m         \u001b[0mself\u001b[0m\u001b[0;34m.\u001b[0m\u001b[0mmmd_fn\u001b[0m \u001b[0;34m=\u001b[0m \u001b[0mMMDLoss\u001b[0m\u001b[0;34m(\u001b[0m\u001b[0;34m)\u001b[0m\u001b[0;34m\u001b[0m\u001b[0;34m\u001b[0m\u001b[0m\n\u001b[1;32m    116\u001b[0m         \u001b[0mself\u001b[0m\u001b[0;34m.\u001b[0m\u001b[0msigma\u001b[0m \u001b[0;34m=\u001b[0m \u001b[0mopt\u001b[0m\u001b[0;34m.\u001b[0m\u001b[0msigma\u001b[0m\u001b[0;34m\u001b[0m\u001b[0;34m\u001b[0m\u001b[0m\n\u001b[0;32m--> 117\u001b[0;31m         \u001b[0mself\u001b[0m\u001b[0;34m.\u001b[0m\u001b[0malpha\u001b[0m \u001b[0;34m=\u001b[0m \u001b[0mopt\u001b[0m\u001b[0;34m.\u001b[0m\u001b[0malpha\u001b[0m\u001b[0;34m\u001b[0m\u001b[0;34m\u001b[0m\u001b[0m\n\u001b[0m\u001b[1;32m    118\u001b[0m         \u001b[0mself\u001b[0m\u001b[0;34m.\u001b[0m\u001b[0mverbose\u001b[0m \u001b[0;34m=\u001b[0m \u001b[0mopt\u001b[0m\u001b[0;34m.\u001b[0m\u001b[0mverbose\u001b[0m\u001b[0;34m\u001b[0m\u001b[0;34m\u001b[0m\u001b[0m\n\u001b[1;32m    119\u001b[0m         \u001b[0mself\u001b[0m\u001b[0;34m.\u001b[0m\u001b[0mmmdbatch\u001b[0m \u001b[0;34m=\u001b[0m \u001b[0mopt\u001b[0m\u001b[0;34m.\u001b[0m\u001b[0mmmdbatch\u001b[0m\u001b[0;34m\u001b[0m\u001b[0;34m\u001b[0m\u001b[0m\n",
      "\u001b[0;32m~/anaconda3/envs/MindSpore/lib/python3.7/site-packages/torch_npu/contrib/transfer_to_npu.py\u001b[0m in \u001b[0;36mdecorated\u001b[0;34m(*args, **kwargs)\u001b[0m\n\u001b[1;32m     45\u001b[0m             \u001b[0;32mif\u001b[0m \u001b[0misinstance\u001b[0m\u001b[0;34m(\u001b[0m\u001b[0mkwargs\u001b[0m\u001b[0;34m.\u001b[0m\u001b[0mget\u001b[0m\u001b[0;34m(\u001b[0m\u001b[0;34m'device'\u001b[0m\u001b[0;34m,\u001b[0m \u001b[0;32mNone\u001b[0m\u001b[0;34m)\u001b[0m\u001b[0;34m,\u001b[0m \u001b[0mstr\u001b[0m\u001b[0;34m)\u001b[0m \u001b[0;32mand\u001b[0m \u001b[0;34m'cuda'\u001b[0m \u001b[0;32min\u001b[0m \u001b[0mkwargs\u001b[0m\u001b[0;34m.\u001b[0m\u001b[0mget\u001b[0m\u001b[0;34m(\u001b[0m\u001b[0;34m'device'\u001b[0m\u001b[0;34m,\u001b[0m \u001b[0;34m''\u001b[0m\u001b[0;34m)\u001b[0m\u001b[0;34m:\u001b[0m\u001b[0;34m\u001b[0m\u001b[0;34m\u001b[0m\u001b[0m\n\u001b[1;32m     46\u001b[0m                 \u001b[0mkwargs\u001b[0m\u001b[0;34m[\u001b[0m\u001b[0;34m'device'\u001b[0m\u001b[0;34m]\u001b[0m \u001b[0;34m=\u001b[0m \u001b[0mkwargs\u001b[0m\u001b[0;34m[\u001b[0m\u001b[0;34m'device'\u001b[0m\u001b[0;34m]\u001b[0m\u001b[0;34m.\u001b[0m\u001b[0mreplace\u001b[0m\u001b[0;34m(\u001b[0m\u001b[0;34m'cuda'\u001b[0m\u001b[0;34m,\u001b[0m \u001b[0;34m'npu'\u001b[0m\u001b[0;34m)\u001b[0m\u001b[0;34m\u001b[0m\u001b[0;34m\u001b[0m\u001b[0m\n\u001b[0;32m---> 47\u001b[0;31m         \u001b[0;32mreturn\u001b[0m \u001b[0mfn\u001b[0m\u001b[0;34m(\u001b[0m\u001b[0;34m*\u001b[0m\u001b[0margs\u001b[0m\u001b[0;34m,\u001b[0m \u001b[0;34m**\u001b[0m\u001b[0mkwargs\u001b[0m\u001b[0;34m)\u001b[0m\u001b[0;34m\u001b[0m\u001b[0;34m\u001b[0m\u001b[0m\n\u001b[0m\u001b[1;32m     48\u001b[0m \u001b[0;34m\u001b[0m\u001b[0m\n\u001b[1;32m     49\u001b[0m     \u001b[0;32mreturn\u001b[0m \u001b[0mdecorated\u001b[0m\u001b[0;34m\u001b[0m\u001b[0;34m\u001b[0m\u001b[0m\n",
      "\u001b[0;32m~/anaconda3/envs/MindSpore/lib/python3.7/site-packages/torch_npu/utils/device_guard.py\u001b[0m in \u001b[0;36mwrapper\u001b[0;34m(*args, **kwargs)\u001b[0m\n\u001b[1;32m     35\u001b[0m         \u001b[0;32mif\u001b[0m \u001b[0mkwargs\u001b[0m \u001b[0;32mand\u001b[0m \u001b[0;34m'device'\u001b[0m \u001b[0;32min\u001b[0m \u001b[0mkwargs\u001b[0m \u001b[0;32mand\u001b[0m \u001b[0;32mnot\u001b[0m \u001b[0mkwargs\u001b[0m\u001b[0;34m[\u001b[0m\u001b[0;34m'device'\u001b[0m\u001b[0;34m]\u001b[0m\u001b[0;34m:\u001b[0m\u001b[0;34m\u001b[0m\u001b[0;34m\u001b[0m\u001b[0m\n\u001b[1;32m     36\u001b[0m             \u001b[0mkwargs\u001b[0m\u001b[0;34m[\u001b[0m\u001b[0;34m'device'\u001b[0m\u001b[0;34m]\u001b[0m \u001b[0;34m=\u001b[0m \u001b[0;34m'cpu'\u001b[0m\u001b[0;34m\u001b[0m\u001b[0;34m\u001b[0m\u001b[0m\n\u001b[0;32m---> 37\u001b[0;31m         \u001b[0;32mreturn\u001b[0m \u001b[0mfunc\u001b[0m\u001b[0;34m(\u001b[0m\u001b[0;34m*\u001b[0m\u001b[0margs\u001b[0m\u001b[0;34m,\u001b[0m \u001b[0;34m**\u001b[0m\u001b[0mkwargs\u001b[0m\u001b[0;34m)\u001b[0m\u001b[0;34m\u001b[0m\u001b[0;34m\u001b[0m\u001b[0m\n\u001b[0m\u001b[1;32m     38\u001b[0m     \u001b[0;32mreturn\u001b[0m \u001b[0mwrapper\u001b[0m\u001b[0;34m\u001b[0m\u001b[0;34m\u001b[0m\u001b[0m\n",
      "\u001b[0;32m~/anaconda3/envs/MindSpore/lib/python3.7/site-packages/torch_npu/utils/module.py\u001b[0m in \u001b[0;36mto\u001b[0;34m(self, *args, **kwargs)\u001b[0m\n\u001b[1;32m     84\u001b[0m                 \u001b[0mtorch_npu\u001b[0m\u001b[0;34m.\u001b[0m\u001b[0mnpu\u001b[0m\u001b[0;34m.\u001b[0m\u001b[0mdisable_graph_mode\u001b[0m\u001b[0;34m(\u001b[0m\u001b[0;34m)\u001b[0m\u001b[0;34m\u001b[0m\u001b[0;34m\u001b[0m\u001b[0m\n\u001b[1;32m     85\u001b[0m             \u001b[0;32mwith\u001b[0m \u001b[0mtorch\u001b[0m\u001b[0;34m.\u001b[0m\u001b[0mno_grad\u001b[0m\u001b[0;34m(\u001b[0m\u001b[0;34m)\u001b[0m\u001b[0;34m:\u001b[0m\u001b[0;34m\u001b[0m\u001b[0;34m\u001b[0m\u001b[0m\n\u001b[0;32m---> 86\u001b[0;31m                 \u001b[0mself\u001b[0m\u001b[0;34m.\u001b[0m\u001b[0mcast_weight\u001b[0m\u001b[0;34m(\u001b[0m\u001b[0mdevice\u001b[0m\u001b[0;34m)\u001b[0m\u001b[0;34m\u001b[0m\u001b[0;34m\u001b[0m\u001b[0m\n\u001b[0m\u001b[1;32m     87\u001b[0m             \u001b[0;32mif\u001b[0m \u001b[0mis_graph_mode\u001b[0m\u001b[0;34m:\u001b[0m\u001b[0;34m\u001b[0m\u001b[0;34m\u001b[0m\u001b[0m\n\u001b[1;32m     88\u001b[0m                 \u001b[0mtorch_npu\u001b[0m\u001b[0;34m.\u001b[0m\u001b[0mnpu\u001b[0m\u001b[0;34m.\u001b[0m\u001b[0menable_graph_mode\u001b[0m\u001b[0;34m(\u001b[0m\u001b[0;34m)\u001b[0m\u001b[0;34m\u001b[0m\u001b[0;34m\u001b[0m\u001b[0m\n",
      "\u001b[0;32m~/anaconda3/envs/MindSpore/lib/python3.7/site-packages/torch_npu/utils/module.py\u001b[0m in \u001b[0;36mcast_weight\u001b[0;34m(self, device)\u001b[0m\n\u001b[1;32m    151\u001b[0m     \u001b[0;32mfor\u001b[0m \u001b[0msub_module\u001b[0m \u001b[0;32min\u001b[0m \u001b[0mself\u001b[0m\u001b[0;34m.\u001b[0m\u001b[0mchildren\u001b[0m\u001b[0;34m(\u001b[0m\u001b[0;34m)\u001b[0m\u001b[0;34m:\u001b[0m\u001b[0;34m\u001b[0m\u001b[0;34m\u001b[0m\u001b[0m\n\u001b[1;32m    152\u001b[0m         \u001b[0;32mif\u001b[0m \u001b[0misinstance\u001b[0m\u001b[0;34m(\u001b[0m\u001b[0msub_module\u001b[0m\u001b[0;34m,\u001b[0m \u001b[0mtorch\u001b[0m\u001b[0;34m.\u001b[0m\u001b[0mnn\u001b[0m\u001b[0;34m.\u001b[0m\u001b[0mModule\u001b[0m\u001b[0;34m)\u001b[0m\u001b[0;34m:\u001b[0m\u001b[0;34m\u001b[0m\u001b[0;34m\u001b[0m\u001b[0m\n\u001b[0;32m--> 153\u001b[0;31m             \u001b[0msub_module\u001b[0m\u001b[0;34m.\u001b[0m\u001b[0mcast_weight\u001b[0m\u001b[0;34m(\u001b[0m\u001b[0mdevice\u001b[0m\u001b[0;34m)\u001b[0m\u001b[0;34m\u001b[0m\u001b[0;34m\u001b[0m\u001b[0m\n\u001b[0m\u001b[1;32m    154\u001b[0m \u001b[0;34m\u001b[0m\u001b[0m\n\u001b[1;32m    155\u001b[0m \u001b[0;34m\u001b[0m\u001b[0m\n",
      "\u001b[0;32m~/anaconda3/envs/MindSpore/lib/python3.7/site-packages/torch_npu/utils/module.py\u001b[0m in \u001b[0;36mcast_weight\u001b[0;34m(self, device)\u001b[0m\n\u001b[1;32m    144\u001b[0m \u001b[0;34m\u001b[0m\u001b[0m\n\u001b[1;32m    145\u001b[0m     \u001b[0mcurrent_class\u001b[0m \u001b[0;34m=\u001b[0m \u001b[0mself\u001b[0m\u001b[0;34m.\u001b[0m\u001b[0m__class__\u001b[0m\u001b[0;34m\u001b[0m\u001b[0;34m\u001b[0m\u001b[0m\n\u001b[0;32m--> 146\u001b[0;31m     \u001b[0m_format_cast\u001b[0m\u001b[0;34m(\u001b[0m\u001b[0mself\u001b[0m\u001b[0;34m,\u001b[0m \u001b[0mcurrent_class\u001b[0m\u001b[0;34m)\u001b[0m\u001b[0;34m\u001b[0m\u001b[0;34m\u001b[0m\u001b[0m\n\u001b[0m\u001b[1;32m    147\u001b[0m \u001b[0;34m\u001b[0m\u001b[0m\n\u001b[1;32m    148\u001b[0m     \u001b[0;32mif\u001b[0m \u001b[0;32mnot\u001b[0m \u001b[0mself\u001b[0m\u001b[0;34m.\u001b[0m\u001b[0mchildren\u001b[0m\u001b[0;34m:\u001b[0m\u001b[0;34m\u001b[0m\u001b[0;34m\u001b[0m\u001b[0m\n",
      "\u001b[0;32m~/anaconda3/envs/MindSpore/lib/python3.7/site-packages/torch_npu/utils/module.py\u001b[0m in \u001b[0;36m_format_cast\u001b[0;34m(module, class_name)\u001b[0m\n\u001b[1;32m    101\u001b[0m         \u001b[0;32mif\u001b[0m \u001b[0missubclass\u001b[0m\u001b[0;34m(\u001b[0m\u001b[0mclass_name\u001b[0m\u001b[0;34m,\u001b[0m \u001b[0mtorch\u001b[0m\u001b[0;34m.\u001b[0m\u001b[0mnn\u001b[0m\u001b[0;34m.\u001b[0m\u001b[0mLinear\u001b[0m\u001b[0;34m)\u001b[0m \u001b[0;32mand\u001b[0m \u001b[0;32mnot\u001b[0m \u001b[0mtorch\u001b[0m\u001b[0;34m.\u001b[0m\u001b[0mnpu\u001b[0m\u001b[0;34m.\u001b[0m\u001b[0mget_mm_bmm_format_nd\u001b[0m\u001b[0;34m(\u001b[0m\u001b[0;34m)\u001b[0m\u001b[0;34m:\u001b[0m\u001b[0;34m\u001b[0m\u001b[0;34m\u001b[0m\u001b[0m\n\u001b[1;32m    102\u001b[0m             \u001b[0mmodule\u001b[0m\u001b[0;34m.\u001b[0m\u001b[0mweight\u001b[0m\u001b[0;34m.\u001b[0m\u001b[0mdata\u001b[0m \u001b[0;34m=\u001b[0m \u001b[0mmodule\u001b[0m\u001b[0;34m.\u001b[0m\u001b[0mweight\u001b[0m\u001b[0;34m.\u001b[0m\u001b[0mdata\u001b[0m\u001b[0;34m.\u001b[0m\u001b[0mto\u001b[0m\u001b[0;34m(\u001b[0m\u001b[0mdevice\u001b[0m\u001b[0;34m)\u001b[0m\u001b[0;34m\u001b[0m\u001b[0;34m\u001b[0m\u001b[0m\n\u001b[0;32m--> 103\u001b[0;31m             \u001b[0mmodule\u001b[0m\u001b[0;34m.\u001b[0m\u001b[0mweight\u001b[0m\u001b[0;34m.\u001b[0m\u001b[0mdata\u001b[0m \u001b[0;34m=\u001b[0m \u001b[0mtorch_npu\u001b[0m\u001b[0;34m.\u001b[0m\u001b[0mnpu_format_cast\u001b[0m\u001b[0;34m(\u001b[0m\u001b[0mmodule\u001b[0m\u001b[0;34m.\u001b[0m\u001b[0mweight\u001b[0m\u001b[0;34m.\u001b[0m\u001b[0mdata\u001b[0m\u001b[0;34m,\u001b[0m \u001b[0;36m29\u001b[0m\u001b[0;34m)\u001b[0m \u001b[0;31m# ACL_FORMAT_FRACTAL_NZ\u001b[0m\u001b[0;34m\u001b[0m\u001b[0;34m\u001b[0m\u001b[0m\n\u001b[0m\u001b[1;32m    104\u001b[0m         \u001b[0;32mif\u001b[0m \u001b[0;34m\"MultiheadAttention\"\u001b[0m \u001b[0;32min\u001b[0m \u001b[0mstr\u001b[0m\u001b[0;34m(\u001b[0m\u001b[0mclass_name\u001b[0m\u001b[0;34m)\u001b[0m \u001b[0;32mand\u001b[0m\u001b[0;31m \u001b[0m\u001b[0;31m\\\u001b[0m\u001b[0;34m\u001b[0m\u001b[0;34m\u001b[0m\u001b[0m\n\u001b[1;32m    105\u001b[0m                 \u001b[0mhasattr\u001b[0m\u001b[0;34m(\u001b[0m\u001b[0mmodule\u001b[0m\u001b[0;34m,\u001b[0m\u001b[0;34m\"q_proj_weight\"\u001b[0m\u001b[0;34m)\u001b[0m \u001b[0;32mand\u001b[0m \u001b[0mmodule\u001b[0m\u001b[0;34m.\u001b[0m\u001b[0mq_proj_weight\u001b[0m \u001b[0;32mis\u001b[0m \u001b[0;32mnot\u001b[0m \u001b[0;32mNone\u001b[0m \u001b[0;32mand\u001b[0m\u001b[0;31m \u001b[0m\u001b[0;31m\\\u001b[0m\u001b[0;34m\u001b[0m\u001b[0;34m\u001b[0m\u001b[0m\n",
      "\u001b[0;31mRuntimeError\u001b[0m: Run:/usr1/workspace/FPTA_Daily_Plugin_open_date/CODE/torch_npu/csrc/framework/OpParamMaker.cpp:136 NPU error,NPU error code is:500002\nE29999: Inner Error, Please contact support engineer!\nE29999  [SubGraphOpt][Compile][ProcFailedCompTask] Thread[281463067525600] recompile single op[trans_TransData_54] failed[FUNC:ProcessAllFailedCompileTasks][FILE:tbe_op_store_adapter.cc][LINE:907]\n        TraceBack (most recent call last):\n        [SubGraphOpt][Compile][ParalCompOp] Thread[281463067525600] process fail task failed[FUNC:ParallelCompileOp][FILE:tbe_op_store_adapter.cc][LINE:947]\n        [SubGraphOpt][Compile][CompOpOnly] CompileOp failed.[FUNC:CompileOpOnly][FILE:op_compiler.cc][LINE:994]\n        [GraphOpt][FusedGraph][RunCompile] Failed to compile graph with compiler Normal mode Op Compiler[FUNC:SubGraphCompile][FILE:fe_graph_optimizer.cc][LINE:1349]\n        Call OptimizeFusedGraph failed, ret:-1, engine_name:AIcoreEngine, graph_name:partition0_rank1_new_sub_graph1[FUNC:OptimizeSubGraph][FILE:graph_optimize.cc][LINE:130]\n        subgraph 0 optimize failed[FUNC:OptimizeSubGraphWithMultiThreads][FILE:graph_manager.cc][LINE:716]\n        build graph failed, graph id:84, ret:-1[FUNC:BuildModel][FILE:ge_generator.cc][LINE:1484]\n        [Build][SingleOpModel]call ge interface generator.BuildSingleOpModel failed. ge result = 4294967295[FUNC:ReportCallError][FILE:log_inner.cpp][LINE:161]\n        [Build][Op]Fail to build op model[FUNC:ReportInnerError][FILE:log_inner.cpp][LINE:145]\n        build op model failed, result = 500002[FUNC:ReportInnerError][FILE:log_inner.cpp][LINE:145]\n        [SubGraphOpt][Compile][ProcFailedCompTask] Thread[281463067525600] recompile single op[trans_TransData_55] failed[FUNC:ProcessAllFailedCompileTasks][FILE:tbe_op_store_adapter.cc][LINE:907]\n        build graph failed, graph id:85, ret:-1[FUNC:BuildModel][FILE:ge_generator.cc][LINE:1484]\n        [SubGraphOpt][Compile][ProcFailedCompTask] Thread[281462913479136] recompile single op[trans_TransData_56] failed[FUNC:ProcessAllFailedCompileTasks][FILE:tbe_op_store_adapter.cc][LINE:907]\n        [SubGraphOpt][Compile][ParalCompOp] Thread[281462913479136] process fail task failed[FUNC:ParallelCompileOp][FILE:tbe_op_store_adapter.cc][LINE:947]\n        build graph failed, graph id:86, ret:-1[FUNC:BuildModel][FILE:ge_generator.cc][LINE:1484]\n"
     ]
    }
   ],
   "source": [
    "%%time\n",
    "testmodel = SOmodel(opt)\n",
    "testmodel.togpu()\n",
    "loss_curve = testmodel.train_wholedata(400,torch.tensor(sc_adata_df.values).float(),torch.tensor(st_adata_df.values).float(),torch.tensor(spcoor).float())"
   ]
  },
  {
   "cell_type": "code",
   "execution_count": 7,
   "id": "7ff4624e",
   "metadata": {
    "tags": []
   },
   "outputs": [
    {
     "data": {
      "text/plain": [
       "<matplotlib.legend.Legend at 0xffff8440eb50>"
      ]
     },
     "execution_count": 7,
     "metadata": {},
     "output_type": "execute_result"
    },
    {
     "data": {
      "image/png": "[encoded data removed]",
      "text/plain": [
       "<Figure size 432x216 with 1 Axes>"
      ]
     },
     "metadata": {
      "needs_background": "light"
     },
     "output_type": "display_data"
    }
   ],
   "source": [
    "figsize(6,3)\n",
    "skip=10\n",
    "N = len(loss_curve['E'])-skip\n",
    "plt.plot(np.arange(N),loss_curve['E'][skip:],label='E')\n",
    "plt.plot(np.arange(N),loss_curve['E_pred'][skip:],label='E_pred')\n",
    "plt.plot(np.arange(N),loss_curve['E_circle'][skip:],label='E_circle')\n",
    "plt.plot(np.arange(N),loss_curve['E_mmd'][skip:],label='E_mmd')\n",
    "plt.legend()"
   ]
  },
  {
   "cell_type": "code",
   "execution_count": 11,
   "id": "b14b68a0",
   "metadata": {
    "execution": {
     "iopub.execute_input": "2023-03-16T01:16:57.716972Z",
     "iopub.status.busy": "2023-03-16T01:16:57.716854Z",
     "iopub.status.idle": "2023-03-16T01:16:57.751338Z",
     "shell.execute_reply": "2023-03-16T01:16:57.750666Z",
     "shell.execute_reply.started": "2023-03-16T01:16:57.716957Z"
    },
    "tags": []
   },
   "outputs": [],
   "source": [
    "testmodel.modeleval()\n",
    "scembedding = testmodel.netE(torch.tensor(scdata.values,dtype=torch.float32).cuda())\n",
    "stembedding = testmodel.netE(torch.tensor(stdata.values,dtype=torch.float32).cuda())\n",
    "netst2sc = F.softmax(stembedding.mm(scembedding.t()),dim=1).detach().cpu().numpy()\n",
    "netsc2st = F.softmax(scembedding.mm(stembedding.t()),dim=1).detach().cpu().numpy()"
   ]
  },
  {
   "cell_type": "code",
   "execution_count": 12,
   "id": "d3372992",
   "metadata": {
    "execution": {
     "iopub.execute_input": "2023-03-16T01:16:57.752154Z",
     "iopub.status.busy": "2023-03-16T01:16:57.752037Z",
     "iopub.status.idle": "2023-03-16T01:16:57.861571Z",
     "shell.execute_reply": "2023-03-16T01:16:57.860776Z",
     "shell.execute_reply.started": "2023-03-16T01:16:57.752140Z"
    },
    "tags": []
   },
   "outputs": [],
   "source": [
    "np.save('result/230215_testdp_pure_mmd-E1z2.npy',netst2sc)\n",
    "np.save('result/230215_testdp_pure_sc2st_mmd-E1z2.npy',netsc2st)\n",
    "np.save('result/230215_scembbedding-E1z2.npy',scembedding.detach().cpu().numpy())\n",
    "np.save('result/230215_stembbedding-E1z2.npy',stembedding.detach().cpu().numpy())"
   ]
  },
  {
   "cell_type": "code",
   "execution_count": 13,
   "id": "1072cec2",
   "metadata": {
    "execution": {
     "iopub.execute_input": "2023-03-16T01:16:57.862407Z",
     "iopub.status.busy": "2023-03-16T01:16:57.862281Z",
     "iopub.status.idle": "2023-03-16T01:16:57.969396Z",
     "shell.execute_reply": "2023-03-16T01:16:57.968109Z",
     "shell.execute_reply.started": "2023-03-16T01:16:57.862392Z"
    },
    "tags": []
   },
   "outputs": [],
   "source": [
    "testmodel.save()"
   ]
  }
 ],
 "metadata": {
  "kernelspec": {
   "display_name": "MindSpore",
   "language": "python",
   "name": "mindspore"
  },
  "language_info": {
   "codemirror_mode": {
    "name": "ipython",
    "version": 3
   },
   "file_extension": ".py",
   "mimetype": "text/x-python",
   "name": "python",
   "nbconvert_exporter": "python",
   "pygments_lexer": "ipython3",
   "version": "3.7.10"
  },
  "toc-showtags": false
 },
 "nbformat": 4,
 "nbformat_minor": 5
}
